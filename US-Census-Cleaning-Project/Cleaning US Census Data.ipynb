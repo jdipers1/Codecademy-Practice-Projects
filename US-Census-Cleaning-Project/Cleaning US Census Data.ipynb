{
 "cells": [
  {
   "cell_type": "markdown",
   "metadata": {},
   "source": [
    "# Cleaning US Census Data"
   ]
  },
  {
   "cell_type": "markdown",
   "metadata": {},
   "source": [
    "You just got hired as a Data Analyst at the Census Bureau, which collects census data and creates interesting visualizations and insights from it.\n",
    "\n",
    "The person who had your job before you left you all the data they had for the most recent census. It is in multiple `csv` files. They didn't use pandas, they would just look through these `csv` files manually whenever they wanted to find something. Sometimes they would copy and paste certain numbers into Excel to make charts.\n",
    "\n",
    "The thought of it makes you shiver. This is not scalable or repeatable.\n",
    "\n",
    "Your boss wants you to make some scatterplots and histograms by the end of the day. Can you get this data into `pandas` and into reasonable shape so that you can make these histograms?"
   ]
  },
  {
   "cell_type": "markdown",
   "metadata": {},
   "source": [
    "## Inspect the Data!"
   ]
  },
  {
   "cell_type": "markdown",
   "metadata": {},
   "source": [
    "1. The first visualization your boss wants you to make is a scatterplot that shows average income in a state vs proportion of women in that state.\n",
    "\n",
    "   Open some of the census `csv` files that came with the kit you downloaded. How are they named? What kind of information do they hold? Will they help us make this graph?"
   ]
  },
  {
   "cell_type": "code",
   "execution_count": null,
   "metadata": {},
   "outputs": [],
   "source": []
  },
  {
   "cell_type": "markdown",
   "metadata": {},
   "source": [
    "2. It will be easier to inspect this data once we have it in a DataFrame. You can't even call `.head()` on these `csv`s! How are you supposed to read them?\n",
    "\n",
    "   Using `glob`, loop through the census files available and load them into DataFrames. Then, concatenate all of those DataFrames together into one DataFrame, called something like `us_census`."
   ]
  },
  {
   "cell_type": "code",
   "execution_count": 1,
   "metadata": {},
   "outputs": [],
   "source": [
    "import pandas as pd\n",
    "import numpy as np\n",
    "import matplotlib.pyplot as plt\n",
    "import glob\n",
    "\n",
    "files = glob.glob(\"states*.csv\")\n",
    "\n",
    "census_list = []\n",
    "for states in files:\n",
    "    census = pd.read_csv(states)\n",
    "    census_list.append(census)\n",
    "    \n",
    "census_data = pd.concat(census_list)\n"
   ]
  },
  {
   "cell_type": "markdown",
   "metadata": {},
   "source": [
    "3. Look at the `.columns` and the `.dtypes` of the `us_census` DataFrame. Are those datatypes going to hinder you as you try to make histograms?"
   ]
  },
  {
   "cell_type": "code",
   "execution_count": 2,
   "metadata": {},
   "outputs": [
    {
     "name": "stdout",
     "output_type": "stream",
     "text": [
      "Index(['Unnamed: 0', 'State', 'TotalPop', 'Hispanic', 'White', 'Black',\n",
      "       'Native', 'Asian', 'Pacific', 'Income', 'GenderPop'],\n",
      "      dtype='object')\n",
      "Unnamed: 0     int64\n",
      "State         object\n",
      "TotalPop       int64\n",
      "Hispanic      object\n",
      "White         object\n",
      "Black         object\n",
      "Native        object\n",
      "Asian         object\n",
      "Pacific       object\n",
      "Income        object\n",
      "GenderPop     object\n",
      "dtype: object\n"
     ]
    }
   ],
   "source": [
    "print(census_data.columns)\n",
    "print(census_data.dtypes)"
   ]
  },
  {
   "cell_type": "markdown",
   "metadata": {},
   "source": [
    "4. Look at the `head()` of the DataFrame so that you can understand why some of these `dtypes` are objects instead of integers or floats.\n",
    "\n",
    "   Start to make a plan for how to convert these columns into the right types for manipulation."
   ]
  },
  {
   "cell_type": "code",
   "execution_count": 3,
   "metadata": {},
   "outputs": [
    {
     "data": {
      "text/html": [
       "<div>\n",
       "<style scoped>\n",
       "    .dataframe tbody tr th:only-of-type {\n",
       "        vertical-align: middle;\n",
       "    }\n",
       "\n",
       "    .dataframe tbody tr th {\n",
       "        vertical-align: top;\n",
       "    }\n",
       "\n",
       "    .dataframe thead th {\n",
       "        text-align: right;\n",
       "    }\n",
       "</style>\n",
       "<table border=\"1\" class=\"dataframe\">\n",
       "  <thead>\n",
       "    <tr style=\"text-align: right;\">\n",
       "      <th></th>\n",
       "      <th>Unnamed: 0</th>\n",
       "      <th>State</th>\n",
       "      <th>TotalPop</th>\n",
       "      <th>Hispanic</th>\n",
       "      <th>White</th>\n",
       "      <th>Black</th>\n",
       "      <th>Native</th>\n",
       "      <th>Asian</th>\n",
       "      <th>Pacific</th>\n",
       "      <th>Income</th>\n",
       "      <th>GenderPop</th>\n",
       "    </tr>\n",
       "  </thead>\n",
       "  <tbody>\n",
       "    <tr>\n",
       "      <th>0</th>\n",
       "      <td>0</td>\n",
       "      <td>Maryland</td>\n",
       "      <td>5930538</td>\n",
       "      <td>8.47%</td>\n",
       "      <td>52.68%</td>\n",
       "      <td>30.68%</td>\n",
       "      <td>0.20%</td>\n",
       "      <td>5.33%</td>\n",
       "      <td>0.04%</td>\n",
       "      <td>$78,765.40</td>\n",
       "      <td>2872643M_F</td>\n",
       "    </tr>\n",
       "    <tr>\n",
       "      <th>1</th>\n",
       "      <td>1</td>\n",
       "      <td>Massachusetts</td>\n",
       "      <td>6705586</td>\n",
       "      <td>11.46%</td>\n",
       "      <td>73.04%</td>\n",
       "      <td>6.83%</td>\n",
       "      <td>0.13%</td>\n",
       "      <td>5.84%</td>\n",
       "      <td>0.02%</td>\n",
       "      <td>$72,838.94</td>\n",
       "      <td>3249650M_3455936F</td>\n",
       "    </tr>\n",
       "    <tr>\n",
       "      <th>2</th>\n",
       "      <td>2</td>\n",
       "      <td>Michigan</td>\n",
       "      <td>9900571</td>\n",
       "      <td>4.63%</td>\n",
       "      <td>72.38%</td>\n",
       "      <td>17.63%</td>\n",
       "      <td>0.48%</td>\n",
       "      <td>2.42%</td>\n",
       "      <td>0.02%</td>\n",
       "      <td>$51,201.83</td>\n",
       "      <td>4861973M_5038598F</td>\n",
       "    </tr>\n",
       "    <tr>\n",
       "      <th>3</th>\n",
       "      <td>3</td>\n",
       "      <td>Minnesota</td>\n",
       "      <td>5419171</td>\n",
       "      <td>5.15%</td>\n",
       "      <td>81.43%</td>\n",
       "      <td>5.66%</td>\n",
       "      <td>1.07%</td>\n",
       "      <td>4.16%</td>\n",
       "      <td>0.03%</td>\n",
       "      <td>$62,820.83</td>\n",
       "      <td>2692166M_2727005F</td>\n",
       "    </tr>\n",
       "    <tr>\n",
       "      <th>4</th>\n",
       "      <td>4</td>\n",
       "      <td>Mississippi</td>\n",
       "      <td>2988081</td>\n",
       "      <td>2.84%</td>\n",
       "      <td>53.29%</td>\n",
       "      <td>41.49%</td>\n",
       "      <td>0.39%</td>\n",
       "      <td>0.88%</td>\n",
       "      <td>0.02%</td>\n",
       "      <td>$38,909.92</td>\n",
       "      <td>1451723M_1536358F</td>\n",
       "    </tr>\n",
       "  </tbody>\n",
       "</table>\n",
       "</div>"
      ],
      "text/plain": [
       "   Unnamed: 0          State  TotalPop Hispanic   White   Black Native  Asian  \\\n",
       "0           0       Maryland   5930538    8.47%  52.68%  30.68%  0.20%  5.33%   \n",
       "1           1  Massachusetts   6705586   11.46%  73.04%   6.83%  0.13%  5.84%   \n",
       "2           2       Michigan   9900571    4.63%  72.38%  17.63%  0.48%  2.42%   \n",
       "3           3      Minnesota   5419171    5.15%  81.43%   5.66%  1.07%  4.16%   \n",
       "4           4    Mississippi   2988081    2.84%  53.29%  41.49%  0.39%  0.88%   \n",
       "\n",
       "  Pacific       Income          GenderPop  \n",
       "0   0.04%  $78,765.40          2872643M_F  \n",
       "1   0.02%  $72,838.94   3249650M_3455936F  \n",
       "2   0.02%  $51,201.83   4861973M_5038598F  \n",
       "3   0.03%  $62,820.83   2692166M_2727005F  \n",
       "4   0.02%  $38,909.92   1451723M_1536358F  "
      ]
     },
     "execution_count": 3,
     "metadata": {},
     "output_type": "execute_result"
    }
   ],
   "source": [
    "census_data.head()"
   ]
  },
  {
   "cell_type": "markdown",
   "metadata": {},
   "source": [
    "## Regex to the Rescue"
   ]
  },
  {
   "cell_type": "markdown",
   "metadata": {},
   "source": [
    "5. Use regex to turn the `Income` column into a format that is ready for conversion into a numerical type."
   ]
  },
  {
   "cell_type": "code",
   "execution_count": 4,
   "metadata": {},
   "outputs": [
    {
     "data": {
      "text/html": [
       "<div>\n",
       "<style scoped>\n",
       "    .dataframe tbody tr th:only-of-type {\n",
       "        vertical-align: middle;\n",
       "    }\n",
       "\n",
       "    .dataframe tbody tr th {\n",
       "        vertical-align: top;\n",
       "    }\n",
       "\n",
       "    .dataframe thead th {\n",
       "        text-align: right;\n",
       "    }\n",
       "</style>\n",
       "<table border=\"1\" class=\"dataframe\">\n",
       "  <thead>\n",
       "    <tr style=\"text-align: right;\">\n",
       "      <th></th>\n",
       "      <th>Unnamed: 0</th>\n",
       "      <th>State</th>\n",
       "      <th>TotalPop</th>\n",
       "      <th>Hispanic</th>\n",
       "      <th>White</th>\n",
       "      <th>Black</th>\n",
       "      <th>Native</th>\n",
       "      <th>Asian</th>\n",
       "      <th>Pacific</th>\n",
       "      <th>Income</th>\n",
       "      <th>GenderPop</th>\n",
       "    </tr>\n",
       "  </thead>\n",
       "  <tbody>\n",
       "    <tr>\n",
       "      <th>0</th>\n",
       "      <td>0</td>\n",
       "      <td>Maryland</td>\n",
       "      <td>5930538</td>\n",
       "      <td>8.47%</td>\n",
       "      <td>52.68%</td>\n",
       "      <td>30.68%</td>\n",
       "      <td>0.20%</td>\n",
       "      <td>5.33%</td>\n",
       "      <td>0.04%</td>\n",
       "      <td>78765.40</td>\n",
       "      <td>2872643M_F</td>\n",
       "    </tr>\n",
       "    <tr>\n",
       "      <th>1</th>\n",
       "      <td>1</td>\n",
       "      <td>Massachusetts</td>\n",
       "      <td>6705586</td>\n",
       "      <td>11.46%</td>\n",
       "      <td>73.04%</td>\n",
       "      <td>6.83%</td>\n",
       "      <td>0.13%</td>\n",
       "      <td>5.84%</td>\n",
       "      <td>0.02%</td>\n",
       "      <td>72838.94</td>\n",
       "      <td>3249650M_3455936F</td>\n",
       "    </tr>\n",
       "    <tr>\n",
       "      <th>2</th>\n",
       "      <td>2</td>\n",
       "      <td>Michigan</td>\n",
       "      <td>9900571</td>\n",
       "      <td>4.63%</td>\n",
       "      <td>72.38%</td>\n",
       "      <td>17.63%</td>\n",
       "      <td>0.48%</td>\n",
       "      <td>2.42%</td>\n",
       "      <td>0.02%</td>\n",
       "      <td>51201.83</td>\n",
       "      <td>4861973M_5038598F</td>\n",
       "    </tr>\n",
       "    <tr>\n",
       "      <th>3</th>\n",
       "      <td>3</td>\n",
       "      <td>Minnesota</td>\n",
       "      <td>5419171</td>\n",
       "      <td>5.15%</td>\n",
       "      <td>81.43%</td>\n",
       "      <td>5.66%</td>\n",
       "      <td>1.07%</td>\n",
       "      <td>4.16%</td>\n",
       "      <td>0.03%</td>\n",
       "      <td>62820.83</td>\n",
       "      <td>2692166M_2727005F</td>\n",
       "    </tr>\n",
       "    <tr>\n",
       "      <th>4</th>\n",
       "      <td>4</td>\n",
       "      <td>Mississippi</td>\n",
       "      <td>2988081</td>\n",
       "      <td>2.84%</td>\n",
       "      <td>53.29%</td>\n",
       "      <td>41.49%</td>\n",
       "      <td>0.39%</td>\n",
       "      <td>0.88%</td>\n",
       "      <td>0.02%</td>\n",
       "      <td>38909.92</td>\n",
       "      <td>1451723M_1536358F</td>\n",
       "    </tr>\n",
       "  </tbody>\n",
       "</table>\n",
       "</div>"
      ],
      "text/plain": [
       "   Unnamed: 0          State  TotalPop Hispanic   White   Black Native  Asian  \\\n",
       "0           0       Maryland   5930538    8.47%  52.68%  30.68%  0.20%  5.33%   \n",
       "1           1  Massachusetts   6705586   11.46%  73.04%   6.83%  0.13%  5.84%   \n",
       "2           2       Michigan   9900571    4.63%  72.38%  17.63%  0.48%  2.42%   \n",
       "3           3      Minnesota   5419171    5.15%  81.43%   5.66%  1.07%  4.16%   \n",
       "4           4    Mississippi   2988081    2.84%  53.29%  41.49%  0.39%  0.88%   \n",
       "\n",
       "  Pacific    Income          GenderPop  \n",
       "0   0.04%  78765.40         2872643M_F  \n",
       "1   0.02%  72838.94  3249650M_3455936F  \n",
       "2   0.02%  51201.83  4861973M_5038598F  \n",
       "3   0.03%  62820.83  2692166M_2727005F  \n",
       "4   0.02%  38909.92  1451723M_1536358F  "
      ]
     },
     "execution_count": 4,
     "metadata": {},
     "output_type": "execute_result"
    }
   ],
   "source": [
    "census_data.Income = census_data[\"Income\"].replace('[\\$,]', '', regex=True)\n",
    "census_data.Income = pd.to_numeric(census_data.Income)\n",
    "\n",
    "census_data.head()"
   ]
  },
  {
   "cell_type": "markdown",
   "metadata": {},
   "source": [
    "6. Look at the `GenderPop` column. We are going to want to separate this into two columns, the `Men` column, and the `Women` column.\n",
    "\n",
    "   Split the column into those two new columns using `str.split` and separating out those results."
   ]
  },
  {
   "cell_type": "code",
   "execution_count": 5,
   "metadata": {},
   "outputs": [
    {
     "data": {
      "text/html": [
       "<div>\n",
       "<style scoped>\n",
       "    .dataframe tbody tr th:only-of-type {\n",
       "        vertical-align: middle;\n",
       "    }\n",
       "\n",
       "    .dataframe tbody tr th {\n",
       "        vertical-align: top;\n",
       "    }\n",
       "\n",
       "    .dataframe thead th {\n",
       "        text-align: right;\n",
       "    }\n",
       "</style>\n",
       "<table border=\"1\" class=\"dataframe\">\n",
       "  <thead>\n",
       "    <tr style=\"text-align: right;\">\n",
       "      <th></th>\n",
       "      <th>Unnamed: 0</th>\n",
       "      <th>State</th>\n",
       "      <th>TotalPop</th>\n",
       "      <th>Hispanic</th>\n",
       "      <th>White</th>\n",
       "      <th>Black</th>\n",
       "      <th>Native</th>\n",
       "      <th>Asian</th>\n",
       "      <th>Pacific</th>\n",
       "      <th>Income</th>\n",
       "      <th>GenderPop</th>\n",
       "      <th>Men</th>\n",
       "      <th>Women</th>\n",
       "    </tr>\n",
       "  </thead>\n",
       "  <tbody>\n",
       "    <tr>\n",
       "      <th>0</th>\n",
       "      <td>0</td>\n",
       "      <td>Maryland</td>\n",
       "      <td>5930538</td>\n",
       "      <td>8.47%</td>\n",
       "      <td>52.68%</td>\n",
       "      <td>30.68%</td>\n",
       "      <td>0.20%</td>\n",
       "      <td>5.33%</td>\n",
       "      <td>0.04%</td>\n",
       "      <td>78765.40</td>\n",
       "      <td>2872643M_F</td>\n",
       "      <td>2872643M</td>\n",
       "      <td>F</td>\n",
       "    </tr>\n",
       "    <tr>\n",
       "      <th>1</th>\n",
       "      <td>1</td>\n",
       "      <td>Massachusetts</td>\n",
       "      <td>6705586</td>\n",
       "      <td>11.46%</td>\n",
       "      <td>73.04%</td>\n",
       "      <td>6.83%</td>\n",
       "      <td>0.13%</td>\n",
       "      <td>5.84%</td>\n",
       "      <td>0.02%</td>\n",
       "      <td>72838.94</td>\n",
       "      <td>3249650M_3455936F</td>\n",
       "      <td>3249650M</td>\n",
       "      <td>3455936F</td>\n",
       "    </tr>\n",
       "    <tr>\n",
       "      <th>2</th>\n",
       "      <td>2</td>\n",
       "      <td>Michigan</td>\n",
       "      <td>9900571</td>\n",
       "      <td>4.63%</td>\n",
       "      <td>72.38%</td>\n",
       "      <td>17.63%</td>\n",
       "      <td>0.48%</td>\n",
       "      <td>2.42%</td>\n",
       "      <td>0.02%</td>\n",
       "      <td>51201.83</td>\n",
       "      <td>4861973M_5038598F</td>\n",
       "      <td>4861973M</td>\n",
       "      <td>5038598F</td>\n",
       "    </tr>\n",
       "    <tr>\n",
       "      <th>3</th>\n",
       "      <td>3</td>\n",
       "      <td>Minnesota</td>\n",
       "      <td>5419171</td>\n",
       "      <td>5.15%</td>\n",
       "      <td>81.43%</td>\n",
       "      <td>5.66%</td>\n",
       "      <td>1.07%</td>\n",
       "      <td>4.16%</td>\n",
       "      <td>0.03%</td>\n",
       "      <td>62820.83</td>\n",
       "      <td>2692166M_2727005F</td>\n",
       "      <td>2692166M</td>\n",
       "      <td>2727005F</td>\n",
       "    </tr>\n",
       "    <tr>\n",
       "      <th>4</th>\n",
       "      <td>4</td>\n",
       "      <td>Mississippi</td>\n",
       "      <td>2988081</td>\n",
       "      <td>2.84%</td>\n",
       "      <td>53.29%</td>\n",
       "      <td>41.49%</td>\n",
       "      <td>0.39%</td>\n",
       "      <td>0.88%</td>\n",
       "      <td>0.02%</td>\n",
       "      <td>38909.92</td>\n",
       "      <td>1451723M_1536358F</td>\n",
       "      <td>1451723M</td>\n",
       "      <td>1536358F</td>\n",
       "    </tr>\n",
       "  </tbody>\n",
       "</table>\n",
       "</div>"
      ],
      "text/plain": [
       "   Unnamed: 0          State  TotalPop Hispanic   White   Black Native  Asian  \\\n",
       "0           0       Maryland   5930538    8.47%  52.68%  30.68%  0.20%  5.33%   \n",
       "1           1  Massachusetts   6705586   11.46%  73.04%   6.83%  0.13%  5.84%   \n",
       "2           2       Michigan   9900571    4.63%  72.38%  17.63%  0.48%  2.42%   \n",
       "3           3      Minnesota   5419171    5.15%  81.43%   5.66%  1.07%  4.16%   \n",
       "4           4    Mississippi   2988081    2.84%  53.29%  41.49%  0.39%  0.88%   \n",
       "\n",
       "  Pacific    Income          GenderPop       Men     Women  \n",
       "0   0.04%  78765.40         2872643M_F  2872643M         F  \n",
       "1   0.02%  72838.94  3249650M_3455936F  3249650M  3455936F  \n",
       "2   0.02%  51201.83  4861973M_5038598F  4861973M  5038598F  \n",
       "3   0.03%  62820.83  2692166M_2727005F  2692166M  2727005F  \n",
       "4   0.02%  38909.92  1451723M_1536358F  1451723M  1536358F  "
      ]
     },
     "execution_count": 5,
     "metadata": {},
     "output_type": "execute_result"
    }
   ],
   "source": [
    "split_census = census_data[\"GenderPop\"].str.split('(_)', expand = True)\n",
    "census_data[\"Men\"] = split_census[0]\n",
    "census_data[\"Women\"] = split_census[2]\n",
    "\n",
    "census_data.head()"
   ]
  },
  {
   "cell_type": "markdown",
   "metadata": {},
   "source": [
    "7. Convert both of the columns into numerical datatypes.\n",
    "\n",
    "   There is still an `M` or an `F` character in each entry! We should remove those before we convert."
   ]
  },
  {
   "cell_type": "code",
   "execution_count": 6,
   "metadata": {},
   "outputs": [
    {
     "data": {
      "text/html": [
       "<div>\n",
       "<style scoped>\n",
       "    .dataframe tbody tr th:only-of-type {\n",
       "        vertical-align: middle;\n",
       "    }\n",
       "\n",
       "    .dataframe tbody tr th {\n",
       "        vertical-align: top;\n",
       "    }\n",
       "\n",
       "    .dataframe thead th {\n",
       "        text-align: right;\n",
       "    }\n",
       "</style>\n",
       "<table border=\"1\" class=\"dataframe\">\n",
       "  <thead>\n",
       "    <tr style=\"text-align: right;\">\n",
       "      <th></th>\n",
       "      <th>Unnamed: 0</th>\n",
       "      <th>State</th>\n",
       "      <th>TotalPop</th>\n",
       "      <th>Hispanic</th>\n",
       "      <th>White</th>\n",
       "      <th>Black</th>\n",
       "      <th>Native</th>\n",
       "      <th>Asian</th>\n",
       "      <th>Pacific</th>\n",
       "      <th>Income</th>\n",
       "      <th>GenderPop</th>\n",
       "      <th>Men</th>\n",
       "      <th>Women</th>\n",
       "    </tr>\n",
       "  </thead>\n",
       "  <tbody>\n",
       "    <tr>\n",
       "      <th>0</th>\n",
       "      <td>0</td>\n",
       "      <td>Maryland</td>\n",
       "      <td>5930538</td>\n",
       "      <td>8.47%</td>\n",
       "      <td>52.68%</td>\n",
       "      <td>30.68%</td>\n",
       "      <td>0.20%</td>\n",
       "      <td>5.33%</td>\n",
       "      <td>0.04%</td>\n",
       "      <td>78765.40</td>\n",
       "      <td>2872643M_F</td>\n",
       "      <td>2872643</td>\n",
       "      <td>NaN</td>\n",
       "    </tr>\n",
       "    <tr>\n",
       "      <th>1</th>\n",
       "      <td>1</td>\n",
       "      <td>Massachusetts</td>\n",
       "      <td>6705586</td>\n",
       "      <td>11.46%</td>\n",
       "      <td>73.04%</td>\n",
       "      <td>6.83%</td>\n",
       "      <td>0.13%</td>\n",
       "      <td>5.84%</td>\n",
       "      <td>0.02%</td>\n",
       "      <td>72838.94</td>\n",
       "      <td>3249650M_3455936F</td>\n",
       "      <td>3249650</td>\n",
       "      <td>3455936.0</td>\n",
       "    </tr>\n",
       "    <tr>\n",
       "      <th>2</th>\n",
       "      <td>2</td>\n",
       "      <td>Michigan</td>\n",
       "      <td>9900571</td>\n",
       "      <td>4.63%</td>\n",
       "      <td>72.38%</td>\n",
       "      <td>17.63%</td>\n",
       "      <td>0.48%</td>\n",
       "      <td>2.42%</td>\n",
       "      <td>0.02%</td>\n",
       "      <td>51201.83</td>\n",
       "      <td>4861973M_5038598F</td>\n",
       "      <td>4861973</td>\n",
       "      <td>5038598.0</td>\n",
       "    </tr>\n",
       "    <tr>\n",
       "      <th>3</th>\n",
       "      <td>3</td>\n",
       "      <td>Minnesota</td>\n",
       "      <td>5419171</td>\n",
       "      <td>5.15%</td>\n",
       "      <td>81.43%</td>\n",
       "      <td>5.66%</td>\n",
       "      <td>1.07%</td>\n",
       "      <td>4.16%</td>\n",
       "      <td>0.03%</td>\n",
       "      <td>62820.83</td>\n",
       "      <td>2692166M_2727005F</td>\n",
       "      <td>2692166</td>\n",
       "      <td>2727005.0</td>\n",
       "    </tr>\n",
       "    <tr>\n",
       "      <th>4</th>\n",
       "      <td>4</td>\n",
       "      <td>Mississippi</td>\n",
       "      <td>2988081</td>\n",
       "      <td>2.84%</td>\n",
       "      <td>53.29%</td>\n",
       "      <td>41.49%</td>\n",
       "      <td>0.39%</td>\n",
       "      <td>0.88%</td>\n",
       "      <td>0.02%</td>\n",
       "      <td>38909.92</td>\n",
       "      <td>1451723M_1536358F</td>\n",
       "      <td>1451723</td>\n",
       "      <td>1536358.0</td>\n",
       "    </tr>\n",
       "  </tbody>\n",
       "</table>\n",
       "</div>"
      ],
      "text/plain": [
       "   Unnamed: 0          State  TotalPop Hispanic   White   Black Native  Asian  \\\n",
       "0           0       Maryland   5930538    8.47%  52.68%  30.68%  0.20%  5.33%   \n",
       "1           1  Massachusetts   6705586   11.46%  73.04%   6.83%  0.13%  5.84%   \n",
       "2           2       Michigan   9900571    4.63%  72.38%  17.63%  0.48%  2.42%   \n",
       "3           3      Minnesota   5419171    5.15%  81.43%   5.66%  1.07%  4.16%   \n",
       "4           4    Mississippi   2988081    2.84%  53.29%  41.49%  0.39%  0.88%   \n",
       "\n",
       "  Pacific    Income          GenderPop      Men      Women  \n",
       "0   0.04%  78765.40         2872643M_F  2872643        NaN  \n",
       "1   0.02%  72838.94  3249650M_3455936F  3249650  3455936.0  \n",
       "2   0.02%  51201.83  4861973M_5038598F  4861973  5038598.0  \n",
       "3   0.03%  62820.83  2692166M_2727005F  2692166  2727005.0  \n",
       "4   0.02%  38909.92  1451723M_1536358F  1451723  1536358.0  "
      ]
     },
     "execution_count": 6,
     "metadata": {},
     "output_type": "execute_result"
    }
   ],
   "source": [
    "census_data.Men = census_data[\"Men\"].replace('[M]', '', regex=True)\n",
    "census_data.Women = census_data[\"Women\"].replace('[F]', '', regex=True)\n",
    "\n",
    "census_data.Men = pd.to_numeric(census_data[\"Men\"])\n",
    "census_data.Women = pd.to_numeric(census_data[\"Women\"])\n",
    "\n",
    "census_data.head()"
   ]
  },
  {
   "cell_type": "markdown",
   "metadata": {},
   "source": [
    "8. Now you should have the columns you need to make the graph and make sure your boss does not slam a ruler angrily on your desk because you've wasted your whole day cleaning your data with no results to show!\n",
    "\n",
    "   Use matplotlib to make a scatterplot!\n",
    "   \n",
    "   ```py\n",
    "   plt.scatter(the_women_column, the_income_column)\n",
    "   ```\n",
    "   \n",
    "   Remember to call `plt.show()` to see the graph!"
   ]
  },
  {
   "cell_type": "code",
   "execution_count": 7,
   "metadata": {},
   "outputs": [
    {
     "data": {
      "image/png": "[encoded data removed]",
      "text/plain": [
       "<Figure size 432x288 with 1 Axes>"
      ]
     },
     "metadata": {
      "needs_background": "light"
     },
     "output_type": "display_data"
    }
   ],
   "source": [
    "plt.scatter(census_data.Women, census_data.Income)\n",
    "plt.show()"
   ]
  },
  {
   "cell_type": "markdown",
   "metadata": {},
   "source": [
    "9. You want to double check your work. You know from experience that these monstrous csv files probably have `nan` values in them! Print out your column with the number of women per state to see.\n",
    "\n",
    "   We can fill in those `nan`s by using pandas' `.fillna()` function.\n",
    "   \n",
    "   You have the `TotalPop` per state, and you have the `Men` per state. As an estimate for the `nan` values in the `Women` column, you could use the `TotalPop` of that state minus the `Men` for that state.\n",
    "   \n",
    "   Print out the `Women` column after filling the `nan` values to see if it worked!"
   ]
  },
  {
   "cell_type": "code",
   "execution_count": 8,
   "metadata": {},
   "outputs": [
    {
     "name": "stdout",
     "output_type": "stream",
     "text": [
      "0           NaN\n",
      "1     3455936.0\n",
      "2     5038598.0\n",
      "3     2727005.0\n",
      "4     1536358.0\n",
      "5     3081445.0\n",
      "0     1444150.0\n",
      "1      318031.0\n",
      "2     4195682.0\n",
      "3     3497739.0\n",
      "4      937789.0\n",
      "5     2890732.0\n",
      "0     1558931.0\n",
      "1     1453125.0\n",
      "2     2233145.0\n",
      "3     2364097.0\n",
      "4      679019.0\n",
      "5           NaN\n",
      "0     3081445.0\n",
      "1           NaN\n",
      "2      939759.0\n",
      "3     1390901.0\n",
      "4      670717.0\n",
      "5     4561386.0\n",
      "0     2489527.0\n",
      "1      349215.0\n",
      "2     3342840.0\n",
      "3     1506295.0\n",
      "4    19334329.0\n",
      "5     2630239.0\n",
      "0     5123362.0\n",
      "1      696428.0\n",
      "2      806083.0\n",
      "3     6556862.0\n",
      "4     3333382.0\n",
      "5     1558931.0\n",
      "0     4561386.0\n",
      "1     1051703.0\n",
      "2    10131373.0\n",
      "3     5049925.0\n",
      "4      353677.0\n",
      "5     5913084.0\n",
      "0     2630239.0\n",
      "1     1841615.0\n",
      "2      478041.0\n",
      "3      340810.0\n",
      "4    10045763.0\n",
      "5     5123362.0\n",
      "0      543273.0\n",
      "1     2455167.0\n",
      "2      419713.0\n",
      "3     3331859.0\n",
      "4    13367298.0\n",
      "5     1444150.0\n",
      "0     5913084.0\n",
      "1     1942789.0\n",
      "2     1990780.0\n",
      "3     6534215.0\n",
      "4     1869213.0\n",
      "5      543273.0\n",
      "Name: Women, dtype: float64\n",
      "0     3057895.0\n",
      "1     3455936.0\n",
      "2     5038598.0\n",
      "3     2727005.0\n",
      "4     1536358.0\n",
      "5     3081445.0\n",
      "0     1444150.0\n",
      "1      318031.0\n",
      "2     4195682.0\n",
      "3     3497739.0\n",
      "4      937789.0\n",
      "5     2890732.0\n",
      "0     1558931.0\n",
      "1     1453125.0\n",
      "2     2233145.0\n",
      "3     2364097.0\n",
      "4      679019.0\n",
      "5     3057895.0\n",
      "0     3081445.0\n",
      "1      504536.0\n",
      "2      939759.0\n",
      "3     1390901.0\n",
      "4      670717.0\n",
      "5     4561386.0\n",
      "0     2489527.0\n",
      "1      349215.0\n",
      "2     3342840.0\n",
      "3     1506295.0\n",
      "4    19334329.0\n",
      "5     2630239.0\n",
      "0     5123362.0\n",
      "1      696428.0\n",
      "2      806083.0\n",
      "3     6556862.0\n",
      "4     3333382.0\n",
      "5     1558931.0\n",
      "0     4561386.0\n",
      "1     1051703.0\n",
      "2    10131373.0\n",
      "3     5049925.0\n",
      "4      353677.0\n",
      "5     5913084.0\n",
      "0     2630239.0\n",
      "1     1841615.0\n",
      "2      478041.0\n",
      "3      340810.0\n",
      "4    10045763.0\n",
      "5     5123362.0\n",
      "0      543273.0\n",
      "1     2455167.0\n",
      "2      419713.0\n",
      "3     3331859.0\n",
      "4    13367298.0\n",
      "5     1444150.0\n",
      "0     5913084.0\n",
      "1     1942789.0\n",
      "2     1990780.0\n",
      "3     6534215.0\n",
      "4     1869213.0\n",
      "5      543273.0\n",
      "Name: Women, dtype: float64\n"
     ]
    }
   ],
   "source": [
    "print(census_data.Women)\n",
    "\n",
    "census_data.Women = census_data[\"Women\"].fillna(census_data.TotalPop - census_data.Men)\n",
    "\n",
    "print(census_data.Women)"
   ]
  },
  {
   "cell_type": "markdown",
   "metadata": {},
   "source": [
    "10. We forgot to check for duplicates! Use `.duplicated()` on your `census` DataFrame to see if we have duplicate rows in there."
   ]
  },
  {
   "cell_type": "code",
   "execution_count": 9,
   "metadata": {},
   "outputs": [
    {
     "name": "stdout",
     "output_type": "stream",
     "text": [
      "0    False\n",
      "1    False\n",
      "2    False\n",
      "3    False\n",
      "4    False\n",
      "5    False\n",
      "0    False\n",
      "1    False\n",
      "2    False\n",
      "3    False\n",
      "4    False\n",
      "5    False\n",
      "0    False\n",
      "1    False\n",
      "2    False\n",
      "3    False\n",
      "4    False\n",
      "5    False\n",
      "0    False\n",
      "1    False\n",
      "2    False\n",
      "3    False\n",
      "4    False\n",
      "5    False\n",
      "0    False\n",
      "1    False\n",
      "2    False\n",
      "3    False\n",
      "4    False\n",
      "5    False\n",
      "0    False\n",
      "1    False\n",
      "2    False\n",
      "3    False\n",
      "4    False\n",
      "5    False\n",
      "0    False\n",
      "1    False\n",
      "2    False\n",
      "3    False\n",
      "4    False\n",
      "5    False\n",
      "0    False\n",
      "1    False\n",
      "2    False\n",
      "3    False\n",
      "4    False\n",
      "5    False\n",
      "0    False\n",
      "1    False\n",
      "2    False\n",
      "3    False\n",
      "4    False\n",
      "5    False\n",
      "0    False\n",
      "1    False\n",
      "2    False\n",
      "3    False\n",
      "4    False\n",
      "5    False\n",
      "dtype: bool\n"
     ]
    }
   ],
   "source": [
    "print(census_data.duplicated())"
   ]
  },
  {
   "cell_type": "markdown",
   "metadata": {},
   "source": [
    "11. Drop those duplicates using the `.drop_duplicates()` function."
   ]
  },
  {
   "cell_type": "code",
   "execution_count": 10,
   "metadata": {},
   "outputs": [],
   "source": [
    "census_data = census_data.drop_duplicates()"
   ]
  },
  {
   "cell_type": "markdown",
   "metadata": {},
   "source": [
    "12. Make the scatterplot again. Now, it should be perfect! Your job is secure, for now."
   ]
  },
  {
   "cell_type": "code",
   "execution_count": 11,
   "metadata": {},
   "outputs": [
    {
     "data": {
      "image/png": "[encoded data removed]",
      "text/plain": [
       "<Figure size 432x288 with 1 Axes>"
      ]
     },
     "metadata": {
      "needs_background": "light"
     },
     "output_type": "display_data"
    }
   ],
   "source": [
    "plt.scatter(census_data.Women, census_data.Income)\n",
    "plt.show()"
   ]
  },
  {
   "cell_type": "markdown",
   "metadata": {},
   "source": [
    "## Histogram of Races"
   ]
  },
  {
   "cell_type": "markdown",
   "metadata": {},
   "source": [
    "13. Now your boss wants you to make a bunch of histograms out of the race data that you have. Look at the `.columns` again to see what the race categories are."
   ]
  },
  {
   "cell_type": "code",
   "execution_count": 40,
   "metadata": {},
   "outputs": [
    {
     "data": {
      "text/plain": [
       "Index(['Unnamed: 0', 'State', 'TotalPop', 'Hispanic', 'White', 'Black',\n",
       "       'Native', 'Asian', 'Pacific', 'Income', 'GenderPop', 'Men', 'Women'],\n",
       "      dtype='object')"
      ]
     },
     "execution_count": 40,
     "metadata": {},
     "output_type": "execute_result"
    }
   ],
   "source": [
    "census_data.columns"
   ]
  },
  {
   "cell_type": "markdown",
   "metadata": {},
   "source": [
    "14. Try to make a histogram for each one!\n",
    "\n",
    "    You will have to get the columns into the numerical format, and those percentage signs will have to go.\n",
    "    \n",
    "    Don't forget to fill the `nan` values with something that makes sense! You probably dropped the duplicate rows when making your last graph, but it couldn't hurt to check for duplicates again."
   ]
  },
  {
   "cell_type": "code",
   "execution_count": 16,
   "metadata": {},
   "outputs": [
    {
     "data": {
      "image/png": "[encoded data removed]",
      "text/plain": [
       "<Figure size 432x288 with 1 Axes>"
      ]
     },
     "metadata": {
      "needs_background": "light"
     },
     "output_type": "display_data"
    },
    {
     "data": {
      "image/png": "[encoded data removed]",
      "text/plain": [
       "<Figure size 432x288 with 1 Axes>"
      ]
     },
     "metadata": {
      "needs_background": "light"
     },
     "output_type": "display_data"
    },
    {
     "data": {
      "image/png": "[encoded data removed]",
      "text/plain": [
       "<Figure size 432x288 with 1 Axes>"
      ]
     },
     "metadata": {
      "needs_background": "light"
     },
     "output_type": "display_data"
    },
    {
     "data": {
      "image/png": "[encoded data removed]",
      "text/plain": [
       "<Figure size 432x288 with 1 Axes>"
      ]
     },
     "metadata": {
      "needs_background": "light"
     },
     "output_type": "display_data"
    },
    {
     "data": {
      "image/png": "[encoded data removed]",
      "text/plain": [
       "<Figure size 432x288 with 1 Axes>"
      ]
     },
     "metadata": {
      "needs_background": "light"
     },
     "output_type": "display_data"
    },
    {
     "data": {
      "image/png": "[encoded data removed]",
      "text/plain": [
       "<Figure size 432x288 with 1 Axes>"
      ]
     },
     "metadata": {
      "needs_background": "light"
     },
     "output_type": "display_data"
    }
   ],
   "source": [
    "census_data.Hispanic = census_data[\"Hispanic\"].replace('[%]', '', regex=True)\n",
    "census_data.White = census_data[\"White\"].replace('[%]', '', regex=True)\n",
    "census_data.Black = census_data[\"Black\"].replace('[%]', '', regex=True)\n",
    "census_data.Native = census_data[\"Native\"].replace('[%]', '', regex=True)\n",
    "census_data.Asian = census_data[\"Asian\"].replace('[%]', '', regex=True)\n",
    "census_data.Pacific = census_data[\"Pacific\"].replace('[%]', '', regex=True)\n",
    "\n",
    "census_data.Hispanic = pd.to_numeric(census_data[\"Hispanic\"])\n",
    "census_data.White = pd.to_numeric(census_data[\"White\"])\n",
    "census_data.Black = pd.to_numeric(census_data[\"Black\"])\n",
    "census_data.Native = pd.to_numeric(census_data[\"Native\"])\n",
    "census_data.Asian = pd.to_numeric(census_data[\"Asian\"])\n",
    "census_data.Pacific = pd.to_numeric(census_data[\"Pacific\"])\n",
    "\n",
    "plt.hist(census_data.Hispanic)\n",
    "plt.show()\n",
    "\n",
    "plt.hist(census_data.White)\n",
    "plt.show()\n",
    "\n",
    "plt.hist(census_data.Black)\n",
    "plt.show()\n",
    "\n",
    "plt.hist(census_data.Native)\n",
    "plt.show()\n",
    "\n",
    "plt.hist(census_data.Asian)\n",
    "plt.show()\n",
    "\n",
    "plt.hist(census_data.Pacific)\n",
    "plt.show()"
   ]
  },
  {
   "cell_type": "markdown",
   "metadata": {},
   "source": [
    "## Get Creative"
   ]
  },
  {
   "cell_type": "markdown",
   "metadata": {},
   "source": [
    "15. Phew. You've definitely impressed your boss on your first day of work.\n",
    "\n",
    "    But is there a way you really convey the power of pandas and Python over the drudgery of `csv` and Excel?\n",
    "    \n",
    "    Try to make some more interesting graphs to show your boss, and the world! You may need to clean the data even more to do it, or the cleaning you have already done may give you the ease of manipulation you've been searching for."
   ]
  },
  {
   "cell_type": "code",
   "execution_count": null,
   "metadata": {},
   "outputs": [],
   "source": []
  }
 ],
 "metadata": {
  "kernelspec": {
   "display_name": "Python 3 (ipykernel)",
   "language": "python",
   "name": "python3"
  },
  "language_info": {
   "codemirror_mode": {
    "name": "ipython",
    "version": 3
   },
   "file_extension": ".py",
   "mimetype": "text/x-python",
   "name": "python",
   "nbconvert_exporter": "python",
   "pygments_lexer": "ipython3",
   "version": "3.9.12"
  }
 },
 "nbformat": 4,
 "nbformat_minor": 2
}
